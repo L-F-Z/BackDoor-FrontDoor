{
 "cells": [
  {
   "cell_type": "markdown",
   "metadata": {},
   "source": [
    "# d-分离、前门准则与后门准则的代码实现\n",
    "\n",
    "---\n",
    "\n",
    "*CCF因果科学暑期夏令营*\n",
    "\n",
    "中国科学院计算技术研究所 李奉治\n",
    "\n",
    "08/16/2021"
   ]
  },
  {
   "cell_type": "code",
   "execution_count": 1,
   "metadata": {},
   "outputs": [
    {
     "data": {
      "image/png": "[encoded data removed]",
      "text/plain": [
       "<Figure size 432x288 with 1 Axes>"
      ]
     },
     "metadata": {},
     "output_type": "display_data"
    }
   ],
   "source": [
    "import networkx as nx\n",
    "# 绘图选项\n",
    "draw_options = {\n",
    "    \"arrowsize\": 20,\n",
    "    \"font_size\": 20,\n",
    "    \"node_size\": 1000,\n",
    "    \"node_color\": \"white\",\n",
    "    \"edgecolors\": \"black\",\n",
    "    \"linewidths\": 1,\n",
    "    \"width\": 1,\n",
    "    \"with_labels\": True,\n",
    "}\n",
    "# 构建有向图并添加结点和边\n",
    "G = nx.DiGraph()\n",
    "G.add_nodes_from(['A', 'B', 'C', 'D', 'W', 'X', 'Y', 'Z'])\n",
    "G.add_edges_from([('X', 'W'), ('W', 'Y'), ('Z', 'X'), ('Z', 'Y')])\n",
    "G.add_edges_from([('B', 'A'), ('A', 'X'), ('B', 'Z')])\n",
    "G.add_edges_from([('C', 'D'), ('D', 'Y'), ('C', 'Z')])\n",
    "# 手动编辑绘图时各节点位置\n",
    "pos={'A': (-0.8, 0.0), 'B': (-0.8, 0.8), 'C': ( 0.8, 0.8), 'D': ( 0.8, 0.0), \n",
    "     'W': ( 0.0,-0.8), 'X': (-0.8,-0.8), 'Y': ( 0.8,-0.8), 'Z': ( 0.0, 0.0)}\n",
    "# 绘出当前有向图\n",
    "nx.draw(G, **draw_options, pos=pos)"
   ]
  },
  {
   "cell_type": "markdown",
   "metadata": {},
   "source": [
    "## d-分离\n",
    "\n",
    "---\n",
    "\n",
    "一条路径会一组结点 Z 阻断，当且仅当：\n",
    "\n",
    "1. 路径 $p$ 包含链结构 A→B→C 或分叉结构 A←B→C，且中间结点 B 在 Z 中；或者\n",
    "2. 路径 $p$ 包含一个对撞结构 A→B←C，且对撞结点 B 及其子孙结点都不在 Z 中\n",
    "\n",
    "如果 Z 阻断了 X 和 Y 间的每一条路径，则 X 和 Y 在 Z 的条件下是**d-分离**的。"
   ]
  },
  {
   "cell_type": "code",
   "execution_count": 2,
   "metadata": {},
   "outputs": [],
   "source": [
    "def path_blocked(G, path, z):\n",
    "    # 对于路径中间的结点逐一判断\n",
    "    # ['X', 'Z', 'C', 'D', 'Y']\n",
    "    for i in range(1, len(path)-1):\n",
    "        # z -> c <- d\n",
    "        if G.has_edge(path[i-1], path[i]) and G.has_edge(path[i+1], path[i]):\n",
    "            # 结点path[i]处于对撞结构中\n",
    "            if path[i] in z:\n",
    "                # 对撞结点在Z中，此路径无法被此结点阻断，判断下一个结点\n",
    "                continue\n",
    "\n",
    "            all_descendants_not_in_z = True\n",
    "            for des in nx.descendants(G, path[i]):\n",
    "                # 判断此结点的子孙结点\n",
    "                if des in z:\n",
    "                    all_descendants_not_in_z = False\n",
    "                    break\n",
    "            if not all_descendants_not_in_z:\n",
    "                # 某个子孙结点在Z中，此路径无法被此结点阻断，判断下一个结点\n",
    "                continue\n",
    "\n",
    "            # 此结点及其子孙结点都不在Z中，此路径可以被此结点阻断，返回True\n",
    "            print('，且对撞结点', path[i], '被阻断')\n",
    "            return True\n",
    "        \n",
    "        else:\n",
    "            # 结点path[i]处于链结构或分叉结构中\n",
    "            if path[i] in z:\n",
    "                # 此结点在Z中，此路径可以被此结点阻断，返回True\n",
    "                print('，且结点', path[i], '被阻断')\n",
    "                return True\n",
    "            # 否则此结点无法阻断此路径，继续判断下一个结点\n",
    "\n",
    "    print('，但未被阻断【×】')\n",
    "    # 已经判断了此路径中的每一个结点，都无法阻断此路径，返回False\n",
    "    return False"
   ]
  },
  {
   "cell_type": "code",
   "execution_count": 3,
   "metadata": {},
   "outputs": [],
   "source": [
    "def d_separation(G, x, y, z):\n",
    "    all_path_blocked = True\n",
    "    # 获取图G的一个临时无向图副本，用于搜索简单路径\n",
    "    U_G = G.to_undirected()\n",
    "    # 通过U_G获取X和Y之间所有的简单路径\n",
    "    paths = nx.all_simple_paths(U_G, x, y)\n",
    "    # 逐一判断每个路径是否被阻断\n",
    "    for path in paths:\n",
    "        print('  路径', path, end='')\n",
    "        blocked = path_blocked(G, path, z)\n",
    "        if not blocked:\n",
    "            # 此路径未被阻断，不满足d-分离条件\n",
    "            all_path_blocked = False\n",
    "\n",
    "    # 结果输出\n",
    "    if not all_path_blocked:\n",
    "        print('有路径未被阻断，不满足d-分离准则')\n",
    "        return False\n",
    "    else:\n",
    "        print('所有路径都已被阻断，满足d-分离准则')\n",
    "        return True"
   ]
  },
  {
   "cell_type": "code",
   "execution_count": 4,
   "metadata": {},
   "outputs": [
    {
     "name": "stdout",
     "output_type": "stream",
     "text": [
      "  路径 ['X', 'A', 'B', 'Z', 'C', 'D', 'Y']，且结点 A 被阻断\n",
      "  路径 ['X', 'A', 'B', 'Z', 'Y']，且结点 A 被阻断\n",
      "  路径 ['X', 'W', 'Y']，且结点 W 被阻断\n",
      "  路径 ['X', 'Z', 'C', 'D', 'Y']，且结点 Z 被阻断\n",
      "  路径 ['X', 'Z', 'Y']，且结点 Z 被阻断\n",
      "所有路径都已被阻断，满足d-分离准则\n"
     ]
    },
    {
     "data": {
      "text/plain": [
       "True"
      ]
     },
     "execution_count": 4,
     "metadata": {},
     "output_type": "execute_result"
    }
   ],
   "source": [
    "d_separation(G, 'X', 'Y', {'A', 'Z', 'W'})"
   ]
  },
  {
   "cell_type": "code",
   "execution_count": 5,
   "metadata": {},
   "outputs": [
    {
     "data": {
      "text/plain": [
       "True"
      ]
     },
     "execution_count": 5,
     "metadata": {},
     "output_type": "execute_result"
    }
   ],
   "source": [
    "nx.d_separated(G, {'X'}, {'Y'}, {'A', 'Z', 'W'})"
   ]
  },
  {
   "cell_type": "markdown",
   "metadata": {},
   "source": [
    "## 后门准则\n",
    "\n",
    "---\n",
    "\n",
    "给定有向无环图中的一对有序变量 (X, Y)，如果变量集合 Z 满足\n",
    "\n",
    "1. Z 中没有 X 的后代结点，且\n",
    "2. Z 阻断了 X 与 Y 之间的每条含有指向 X 的路径\n",
    "\n",
    "则称 Z 满足关于 (X, Y) 的**后门准则**。\n"
   ]
  },
  {
   "cell_type": "code",
   "execution_count": 6,
   "metadata": {},
   "outputs": [],
   "source": [
    "def backdoor(G, x, y, z):\n",
    "    print('正在判断图G中结点集', z, '是否满足关于(', x, ',', y, ')的后门准则')\n",
    "    \n",
    "    # 判断是否为有向无环图\n",
    "    if not nx.is_directed_acyclic_graph(G):\n",
    "        print('此图不是有向无环图，无法进行后续判断')\n",
    "        return False\n",
    "    \n",
    "    # @@@ 判据1：Z中没有X的后代结点\n",
    "    # ------------------------------------------------\n",
    "    # 获取X的所有后代结点\n",
    "    des_x = nx.descendants(G, x)\n",
    "    # 判断Z中是否有X的后代结点\n",
    "    for node in z:\n",
    "        if node in des_x:\n",
    "            print('结点', z, '为', x, '的后代结点，不满足第一条判据，不满足后门准则')\n",
    "            return False\n",
    "\n",
    "    # @@@ 判据2：Z阻断了X与Y之间的每条含有指向X的路径\n",
    "    # ------------------------------------------------\n",
    "    all_path_blocked = True\n",
    "    # 获取图G的一个临时无向图副本，用于搜索简单路径\n",
    "    U_G = G.to_undirected()\n",
    "    # 通过U_G获取X和Y之间所有的简单路径\n",
    "    paths = nx.all_simple_paths(U_G, x, y)\n",
    "    # 逐一判断每个路径是否为指向X的路径，如果是指向X的路径检测其是否被阻断\n",
    "    for path in paths:\n",
    "        print('  路径', path, end='')\n",
    "        if G.has_edge(path[1], path[0]):\n",
    "            print('是指向X的路径', end='')\n",
    "            blocked = path_blocked(G, path, z)\n",
    "            if not blocked:\n",
    "                # 此路径未被阻断，使得后门准则不满足\n",
    "                all_path_blocked = False\n",
    "        else:\n",
    "            print('不是指向X的路径')\n",
    "    \n",
    "    # 结果输出\n",
    "    if not all_path_blocked:\n",
    "        print('有后门路径未被阻断，不满足后门准则\\n')\n",
    "        return False\n",
    "    else:\n",
    "        print('所有后门路径都已被阻断，满足后门准则\\n')\n",
    "        return True"
   ]
  },
  {
   "cell_type": "code",
   "execution_count": 7,
   "metadata": {},
   "outputs": [
    {
     "data": {
      "image/png": "[encoded data removed]",
      "text/plain": [
       "<Figure size 432x288 with 1 Axes>"
      ]
     },
     "metadata": {},
     "output_type": "display_data"
    }
   ],
   "source": [
    "nx.draw(G, **draw_options, pos=pos)"
   ]
  },
  {
   "cell_type": "code",
   "execution_count": 8,
   "metadata": {},
   "outputs": [
    {
     "name": "stdout",
     "output_type": "stream",
     "text": [
      "正在判断图G中结点集 {'A', 'Z'} 是否满足关于( X , Y )的后门准则\n",
      "  路径 ['X', 'A', 'B', 'Z', 'C', 'D', 'Y']是后门路径，且结点 A 被阻断\n",
      "  路径 ['X', 'A', 'B', 'Z', 'Y']是后门路径，且结点 A 被阻断\n",
      "  路径 ['X', 'W', 'Y']不是后门路径\n",
      "  路径 ['X', 'Z', 'C', 'D', 'Y']是后门路径，且结点 Z 被阻断\n",
      "  路径 ['X', 'Z', 'Y']是后门路径，且结点 Z 被阻断\n",
      "所有后门路径都已被阻断，满足后门准则\n",
      "\n"
     ]
    },
    {
     "data": {
      "text/plain": [
       "True"
      ]
     },
     "execution_count": 8,
     "metadata": {},
     "output_type": "execute_result"
    }
   ],
   "source": [
    "backdoor(G, 'X', 'Y', {'A','Z'})"
   ]
  },
  {
   "cell_type": "code",
   "execution_count": 9,
   "metadata": {},
   "outputs": [
    {
     "name": "stdout",
     "output_type": "stream",
     "text": [
      "正在判断图G中结点集 {'Z'} 是否满足关于( X , W )的后门准则\n",
      "  路径 ['X', 'A', 'B', 'Z', 'C', 'D', 'Y', 'W']是后门路径，且对撞结点 Y 被阻断\n",
      "  路径 ['X', 'A', 'B', 'Z', 'Y', 'W']是后门路径，且结点 Z 被阻断\n",
      "  路径 ['X', 'W']不是后门路径\n",
      "  路径 ['X', 'Z', 'C', 'D', 'Y', 'W']是后门路径，且结点 Z 被阻断\n",
      "  路径 ['X', 'Z', 'Y', 'W']是后门路径，且结点 Z 被阻断\n",
      "所有后门路径都已被阻断，满足后门准则\n",
      "\n"
     ]
    },
    {
     "data": {
      "text/plain": [
       "True"
      ]
     },
     "execution_count": 9,
     "metadata": {},
     "output_type": "execute_result"
    }
   ],
   "source": [
    "backdoor(G, 'X', 'W', {'Z'})"
   ]
  },
  {
   "cell_type": "markdown",
   "metadata": {},
   "source": [
    "### 思考题3.3.1(a)\n",
    "\n",
    "列出所有满足后门准则的变量集合，以确定X对Y的因果效应\n",
    "\n",
    "---"
   ]
  },
  {
   "cell_type": "code",
   "execution_count": 10,
   "metadata": {},
   "outputs": [
    {
     "name": "stdout",
     "output_type": "stream",
     "text": [
      "()('A',)('B',)('C',)('D',)('W',)('Z',)('A', 'B')('A', 'C')('A', 'D')('A', 'W')('A', 'Z')('B', 'C')('B', 'D')('B', 'W')('B', 'Z')('C', 'D')('C', 'W')('C', 'Z')('D', 'W')('D', 'Z')('W', 'Z')('A', 'B', 'C')('A', 'B', 'D')('A', 'B', 'W')('A', 'B', 'Z')('A', 'C', 'D')('A', 'C', 'W')('A', 'C', 'Z')('A', 'D', 'W')('A', 'D', 'Z')('A', 'W', 'Z')('B', 'C', 'D')('B', 'C', 'W')('B', 'C', 'Z')('B', 'D', 'W')('B', 'D', 'Z')('B', 'W', 'Z')('C', 'D', 'W')('C', 'D', 'Z')('C', 'W', 'Z')('D', 'W', 'Z')('A', 'B', 'C', 'D')('A', 'B', 'C', 'W')('A', 'B', 'C', 'Z')('A', 'B', 'D', 'W')('A', 'B', 'D', 'Z')('A', 'B', 'W', 'Z')('A', 'C', 'D', 'W')('A', 'C', 'D', 'Z')('A', 'C', 'W', 'Z')('A', 'D', 'W', 'Z')('B', 'C', 'D', 'W')('B', 'C', 'D', 'Z')('B', 'C', 'W', 'Z')('B', 'D', 'W', 'Z')('C', 'D', 'W', 'Z')('A', 'B', 'C', 'D', 'W')('A', 'B', 'C', 'D', 'Z')('A', 'B', 'C', 'W', 'Z')('A', 'B', 'D', 'W', 'Z')('A', 'C', 'D', 'W', 'Z')('B', 'C', 'D', 'W', 'Z')('A', 'B', 'C', 'D', 'W', 'Z')"
     ]
    }
   ],
   "source": [
    "# 求出所有可能的变量集合\n",
    "from itertools import chain, combinations\n",
    "v = ['A', 'B', 'C', 'D', 'W', 'Z']\n",
    "powersets = list(chain.from_iterable(combinations(v, r) for r in range(len(v)+1)))\n",
    "for sets in powersets: \n",
    "    print(sets, end='')\n"
   ]
  },
  {
   "cell_type": "code",
   "execution_count": 11,
   "metadata": {},
   "outputs": [
    {
     "name": "stdout",
     "output_type": "stream",
     "text": [
      "正在判断图G中结点集 () 是否满足关于( X , Y )的后门准则\n",
      "  路径 ['X', 'A', 'B', 'Z', 'C', 'D', 'Y']是后门路径，且对撞结点 Z 被阻断\n",
      "  路径 ['X', 'A', 'B', 'Z', 'Y']是后门路径，但未被阻断【×】\n",
      "  路径 ['X', 'W', 'Y']不是后门路径\n",
      "  路径 ['X', 'Z', 'C', 'D', 'Y']是后门路径，但未被阻断【×】\n",
      "  路径 ['X', 'Z', 'Y']是后门路径，但未被阻断【×】\n",
      "有后门路径未被阻断，不满足后门准则\n",
      "\n",
      "正在判断图G中结点集 ('A',) 是否满足关于( X , Y )的后门准则\n",
      "  路径 ['X', 'A', 'B', 'Z', 'C', 'D', 'Y']是后门路径，且结点 A 被阻断\n",
      "  路径 ['X', 'A', 'B', 'Z', 'Y']是后门路径，且结点 A 被阻断\n",
      "  路径 ['X', 'W', 'Y']不是后门路径\n",
      "  路径 ['X', 'Z', 'C', 'D', 'Y']是后门路径，但未被阻断【×】\n",
      "  路径 ['X', 'Z', 'Y']是后门路径，但未被阻断【×】\n",
      "有后门路径未被阻断，不满足后门准则\n",
      "\n",
      "正在判断图G中结点集 ('B',) 是否满足关于( X , Y )的后门准则\n",
      "  路径 ['X', 'A', 'B', 'Z', 'C', 'D', 'Y']是后门路径，且结点 B 被阻断\n",
      "  路径 ['X', 'A', 'B', 'Z', 'Y']是后门路径，且结点 B 被阻断\n",
      "  路径 ['X', 'W', 'Y']不是后门路径\n",
      "  路径 ['X', 'Z', 'C', 'D', 'Y']是后门路径，但未被阻断【×】\n",
      "  路径 ['X', 'Z', 'Y']是后门路径，但未被阻断【×】\n",
      "有后门路径未被阻断，不满足后门准则\n",
      "\n",
      "正在判断图G中结点集 ('C',) 是否满足关于( X , Y )的后门准则\n",
      "  路径 ['X', 'A', 'B', 'Z', 'C', 'D', 'Y']是后门路径，且对撞结点 Z 被阻断\n",
      "  路径 ['X', 'A', 'B', 'Z', 'Y']是后门路径，但未被阻断【×】\n",
      "  路径 ['X', 'W', 'Y']不是后门路径\n",
      "  路径 ['X', 'Z', 'C', 'D', 'Y']是后门路径，且结点 C 被阻断\n",
      "  路径 ['X', 'Z', 'Y']是后门路径，但未被阻断【×】\n",
      "有后门路径未被阻断，不满足后门准则\n",
      "\n",
      "正在判断图G中结点集 ('D',) 是否满足关于( X , Y )的后门准则\n",
      "  路径 ['X', 'A', 'B', 'Z', 'C', 'D', 'Y']是后门路径，且对撞结点 Z 被阻断\n",
      "  路径 ['X', 'A', 'B', 'Z', 'Y']是后门路径，但未被阻断【×】\n",
      "  路径 ['X', 'W', 'Y']不是后门路径\n",
      "  路径 ['X', 'Z', 'C', 'D', 'Y']是后门路径，且结点 D 被阻断\n",
      "  路径 ['X', 'Z', 'Y']是后门路径，但未被阻断【×】\n",
      "有后门路径未被阻断，不满足后门准则\n",
      "\n",
      "正在判断图G中结点集 ('W',) 是否满足关于( X , Y )的后门准则\n",
      "结点 ('W',) 为 X 的后代结点，不满足第一条判据，不满足后门准则\n",
      "正在判断图G中结点集 ('Z',) 是否满足关于( X , Y )的后门准则\n",
      "  路径 ['X', 'A', 'B', 'Z', 'C', 'D', 'Y']是后门路径，但未被阻断【×】\n",
      "  路径 ['X', 'A', 'B', 'Z', 'Y']是后门路径，且结点 Z 被阻断\n",
      "  路径 ['X', 'W', 'Y']不是后门路径\n",
      "  路径 ['X', 'Z', 'C', 'D', 'Y']是后门路径，且结点 Z 被阻断\n",
      "  路径 ['X', 'Z', 'Y']是后门路径，且结点 Z 被阻断\n",
      "有后门路径未被阻断，不满足后门准则\n",
      "\n",
      "正在判断图G中结点集 ('A', 'B') 是否满足关于( X , Y )的后门准则\n",
      "  路径 ['X', 'A', 'B', 'Z', 'C', 'D', 'Y']是后门路径，且结点 A 被阻断\n",
      "  路径 ['X', 'A', 'B', 'Z', 'Y']是后门路径，且结点 A 被阻断\n",
      "  路径 ['X', 'W', 'Y']不是后门路径\n",
      "  路径 ['X', 'Z', 'C', 'D', 'Y']是后门路径，但未被阻断【×】\n",
      "  路径 ['X', 'Z', 'Y']是后门路径，但未被阻断【×】\n",
      "有后门路径未被阻断，不满足后门准则\n",
      "\n",
      "正在判断图G中结点集 ('A', 'C') 是否满足关于( X , Y )的后门准则\n",
      "  路径 ['X', 'A', 'B', 'Z', 'C', 'D', 'Y']是后门路径，且结点 A 被阻断\n",
      "  路径 ['X', 'A', 'B', 'Z', 'Y']是后门路径，且结点 A 被阻断\n",
      "  路径 ['X', 'W', 'Y']不是后门路径\n",
      "  路径 ['X', 'Z', 'C', 'D', 'Y']是后门路径，且结点 C 被阻断\n",
      "  路径 ['X', 'Z', 'Y']是后门路径，但未被阻断【×】\n",
      "有后门路径未被阻断，不满足后门准则\n",
      "\n",
      "正在判断图G中结点集 ('A', 'D') 是否满足关于( X , Y )的后门准则\n",
      "  路径 ['X', 'A', 'B', 'Z', 'C', 'D', 'Y']是后门路径，且结点 A 被阻断\n",
      "  路径 ['X', 'A', 'B', 'Z', 'Y']是后门路径，且结点 A 被阻断\n",
      "  路径 ['X', 'W', 'Y']不是后门路径\n",
      "  路径 ['X', 'Z', 'C', 'D', 'Y']是后门路径，且结点 D 被阻断\n",
      "  路径 ['X', 'Z', 'Y']是后门路径，但未被阻断【×】\n",
      "有后门路径未被阻断，不满足后门准则\n",
      "\n",
      "正在判断图G中结点集 ('A', 'W') 是否满足关于( X , Y )的后门准则\n",
      "结点 ('A', 'W') 为 X 的后代结点，不满足第一条判据，不满足后门准则\n",
      "正在判断图G中结点集 ('A', 'Z') 是否满足关于( X , Y )的后门准则\n",
      "  路径 ['X', 'A', 'B', 'Z', 'C', 'D', 'Y']是后门路径，且结点 A 被阻断\n",
      "  路径 ['X', 'A', 'B', 'Z', 'Y']是后门路径，且结点 A 被阻断\n",
      "  路径 ['X', 'W', 'Y']不是后门路径\n",
      "  路径 ['X', 'Z', 'C', 'D', 'Y']是后门路径，且结点 Z 被阻断\n",
      "  路径 ['X', 'Z', 'Y']是后门路径，且结点 Z 被阻断\n",
      "所有后门路径都已被阻断，满足后门准则\n",
      "\n",
      "正在判断图G中结点集 ('B', 'C') 是否满足关于( X , Y )的后门准则\n",
      "  路径 ['X', 'A', 'B', 'Z', 'C', 'D', 'Y']是后门路径，且结点 B 被阻断\n",
      "  路径 ['X', 'A', 'B', 'Z', 'Y']是后门路径，且结点 B 被阻断\n",
      "  路径 ['X', 'W', 'Y']不是后门路径\n",
      "  路径 ['X', 'Z', 'C', 'D', 'Y']是后门路径，且结点 C 被阻断\n",
      "  路径 ['X', 'Z', 'Y']是后门路径，但未被阻断【×】\n",
      "有后门路径未被阻断，不满足后门准则\n",
      "\n",
      "正在判断图G中结点集 ('B', 'D') 是否满足关于( X , Y )的后门准则\n",
      "  路径 ['X', 'A', 'B', 'Z', 'C', 'D', 'Y']是后门路径，且结点 B 被阻断\n",
      "  路径 ['X', 'A', 'B', 'Z', 'Y']是后门路径，且结点 B 被阻断\n",
      "  路径 ['X', 'W', 'Y']不是后门路径\n",
      "  路径 ['X', 'Z', 'C', 'D', 'Y']是后门路径，且结点 D 被阻断\n",
      "  路径 ['X', 'Z', 'Y']是后门路径，但未被阻断【×】\n",
      "有后门路径未被阻断，不满足后门准则\n",
      "\n",
      "正在判断图G中结点集 ('B', 'W') 是否满足关于( X , Y )的后门准则\n",
      "结点 ('B', 'W') 为 X 的后代结点，不满足第一条判据，不满足后门准则\n",
      "正在判断图G中结点集 ('B', 'Z') 是否满足关于( X , Y )的后门准则\n",
      "  路径 ['X', 'A', 'B', 'Z', 'C', 'D', 'Y']是后门路径，且结点 B 被阻断\n",
      "  路径 ['X', 'A', 'B', 'Z', 'Y']是后门路径，且结点 B 被阻断\n",
      "  路径 ['X', 'W', 'Y']不是后门路径\n",
      "  路径 ['X', 'Z', 'C', 'D', 'Y']是后门路径，且结点 Z 被阻断\n",
      "  路径 ['X', 'Z', 'Y']是后门路径，且结点 Z 被阻断\n",
      "所有后门路径都已被阻断，满足后门准则\n",
      "\n",
      "正在判断图G中结点集 ('C', 'D') 是否满足关于( X , Y )的后门准则\n",
      "  路径 ['X', 'A', 'B', 'Z', 'C', 'D', 'Y']是后门路径，且对撞结点 Z 被阻断\n",
      "  路径 ['X', 'A', 'B', 'Z', 'Y']是后门路径，但未被阻断【×】\n",
      "  路径 ['X', 'W', 'Y']不是后门路径\n",
      "  路径 ['X', 'Z', 'C', 'D', 'Y']是后门路径，且结点 C 被阻断\n",
      "  路径 ['X', 'Z', 'Y']是后门路径，但未被阻断【×】\n",
      "有后门路径未被阻断，不满足后门准则\n",
      "\n",
      "正在判断图G中结点集 ('C', 'W') 是否满足关于( X , Y )的后门准则\n",
      "结点 ('C', 'W') 为 X 的后代结点，不满足第一条判据，不满足后门准则\n",
      "正在判断图G中结点集 ('C', 'Z') 是否满足关于( X , Y )的后门准则\n",
      "  路径 ['X', 'A', 'B', 'Z', 'C', 'D', 'Y']是后门路径，且结点 C 被阻断\n",
      "  路径 ['X', 'A', 'B', 'Z', 'Y']是后门路径，且结点 Z 被阻断\n",
      "  路径 ['X', 'W', 'Y']不是后门路径\n",
      "  路径 ['X', 'Z', 'C', 'D', 'Y']是后门路径，且结点 Z 被阻断\n",
      "  路径 ['X', 'Z', 'Y']是后门路径，且结点 Z 被阻断\n",
      "所有后门路径都已被阻断，满足后门准则\n",
      "\n",
      "正在判断图G中结点集 ('D', 'W') 是否满足关于( X , Y )的后门准则\n",
      "结点 ('D', 'W') 为 X 的后代结点，不满足第一条判据，不满足后门准则\n",
      "正在判断图G中结点集 ('D', 'Z') 是否满足关于( X , Y )的后门准则\n",
      "  路径 ['X', 'A', 'B', 'Z', 'C', 'D', 'Y']是后门路径，且结点 D 被阻断\n",
      "  路径 ['X', 'A', 'B', 'Z', 'Y']是后门路径，且结点 Z 被阻断\n",
      "  路径 ['X', 'W', 'Y']不是后门路径\n",
      "  路径 ['X', 'Z', 'C', 'D', 'Y']是后门路径，且结点 Z 被阻断\n",
      "  路径 ['X', 'Z', 'Y']是后门路径，且结点 Z 被阻断\n",
      "所有后门路径都已被阻断，满足后门准则\n",
      "\n",
      "正在判断图G中结点集 ('W', 'Z') 是否满足关于( X , Y )的后门准则\n",
      "结点 ('W', 'Z') 为 X 的后代结点，不满足第一条判据，不满足后门准则\n",
      "正在判断图G中结点集 ('A', 'B', 'C') 是否满足关于( X , Y )的后门准则\n",
      "  路径 ['X', 'A', 'B', 'Z', 'C', 'D', 'Y']是后门路径，且结点 A 被阻断\n",
      "  路径 ['X', 'A', 'B', 'Z', 'Y']是后门路径，且结点 A 被阻断\n",
      "  路径 ['X', 'W', 'Y']不是后门路径\n",
      "  路径 ['X', 'Z', 'C', 'D', 'Y']是后门路径，且结点 C 被阻断\n",
      "  路径 ['X', 'Z', 'Y']是后门路径，但未被阻断【×】\n",
      "有后门路径未被阻断，不满足后门准则\n",
      "\n",
      "正在判断图G中结点集 ('A', 'B', 'D') 是否满足关于( X , Y )的后门准则\n",
      "  路径 ['X', 'A', 'B', 'Z', 'C', 'D', 'Y']是后门路径，且结点 A 被阻断\n",
      "  路径 ['X', 'A', 'B', 'Z', 'Y']是后门路径，且结点 A 被阻断\n",
      "  路径 ['X', 'W', 'Y']不是后门路径\n",
      "  路径 ['X', 'Z', 'C', 'D', 'Y']是后门路径，且结点 D 被阻断\n",
      "  路径 ['X', 'Z', 'Y']是后门路径，但未被阻断【×】\n",
      "有后门路径未被阻断，不满足后门准则\n",
      "\n",
      "正在判断图G中结点集 ('A', 'B', 'W') 是否满足关于( X , Y )的后门准则\n",
      "结点 ('A', 'B', 'W') 为 X 的后代结点，不满足第一条判据，不满足后门准则\n",
      "正在判断图G中结点集 ('A', 'B', 'Z') 是否满足关于( X , Y )的后门准则\n",
      "  路径 ['X', 'A', 'B', 'Z', 'C', 'D', 'Y']是后门路径，且结点 A 被阻断\n",
      "  路径 ['X', 'A', 'B', 'Z', 'Y']是后门路径，且结点 A 被阻断\n",
      "  路径 ['X', 'W', 'Y']不是后门路径\n",
      "  路径 ['X', 'Z', 'C', 'D', 'Y']是后门路径，且结点 Z 被阻断\n",
      "  路径 ['X', 'Z', 'Y']是后门路径，且结点 Z 被阻断\n",
      "所有后门路径都已被阻断，满足后门准则\n",
      "\n",
      "正在判断图G中结点集 ('A', 'C', 'D') 是否满足关于( X , Y )的后门准则\n",
      "  路径 ['X', 'A', 'B', 'Z', 'C', 'D', 'Y']是后门路径，且结点 A 被阻断\n",
      "  路径 ['X', 'A', 'B', 'Z', 'Y']是后门路径，且结点 A 被阻断\n",
      "  路径 ['X', 'W', 'Y']不是后门路径\n",
      "  路径 ['X', 'Z', 'C', 'D', 'Y']是后门路径，且结点 C 被阻断\n",
      "  路径 ['X', 'Z', 'Y']是后门路径，但未被阻断【×】\n",
      "有后门路径未被阻断，不满足后门准则\n",
      "\n",
      "正在判断图G中结点集 ('A', 'C', 'W') 是否满足关于( X , Y )的后门准则\n",
      "结点 ('A', 'C', 'W') 为 X 的后代结点，不满足第一条判据，不满足后门准则\n",
      "正在判断图G中结点集 ('A', 'C', 'Z') 是否满足关于( X , Y )的后门准则\n",
      "  路径 ['X', 'A', 'B', 'Z', 'C', 'D', 'Y']是后门路径，且结点 A 被阻断\n",
      "  路径 ['X', 'A', 'B', 'Z', 'Y']是后门路径，且结点 A 被阻断\n",
      "  路径 ['X', 'W', 'Y']不是后门路径\n",
      "  路径 ['X', 'Z', 'C', 'D', 'Y']是后门路径，且结点 Z 被阻断\n",
      "  路径 ['X', 'Z', 'Y']是后门路径，且结点 Z 被阻断\n",
      "所有后门路径都已被阻断，满足后门准则\n",
      "\n",
      "正在判断图G中结点集 ('A', 'D', 'W') 是否满足关于( X , Y )的后门准则\n",
      "结点 ('A', 'D', 'W') 为 X 的后代结点，不满足第一条判据，不满足后门准则\n",
      "正在判断图G中结点集 ('A', 'D', 'Z') 是否满足关于( X , Y )的后门准则\n",
      "  路径 ['X', 'A', 'B', 'Z', 'C', 'D', 'Y']是后门路径，且结点 A 被阻断\n",
      "  路径 ['X', 'A', 'B', 'Z', 'Y']是后门路径，且结点 A 被阻断\n",
      "  路径 ['X', 'W', 'Y']不是后门路径\n",
      "  路径 ['X', 'Z', 'C', 'D', 'Y']是后门路径，且结点 Z 被阻断\n",
      "  路径 ['X', 'Z', 'Y']是后门路径，且结点 Z 被阻断\n",
      "所有后门路径都已被阻断，满足后门准则\n",
      "\n",
      "正在判断图G中结点集 ('A', 'W', 'Z') 是否满足关于( X , Y )的后门准则\n",
      "结点 ('A', 'W', 'Z') 为 X 的后代结点，不满足第一条判据，不满足后门准则\n",
      "正在判断图G中结点集 ('B', 'C', 'D') 是否满足关于( X , Y )的后门准则\n",
      "  路径 ['X', 'A', 'B', 'Z', 'C', 'D', 'Y']是后门路径，且结点 B 被阻断\n",
      "  路径 ['X', 'A', 'B', 'Z', 'Y']是后门路径，且结点 B 被阻断\n",
      "  路径 ['X', 'W', 'Y']不是后门路径\n",
      "  路径 ['X', 'Z', 'C', 'D', 'Y']是后门路径，且结点 C 被阻断\n",
      "  路径 ['X', 'Z', 'Y']是后门路径，但未被阻断【×】\n",
      "有后门路径未被阻断，不满足后门准则\n",
      "\n",
      "正在判断图G中结点集 ('B', 'C', 'W') 是否满足关于( X , Y )的后门准则\n",
      "结点 ('B', 'C', 'W') 为 X 的后代结点，不满足第一条判据，不满足后门准则\n",
      "正在判断图G中结点集 ('B', 'C', 'Z') 是否满足关于( X , Y )的后门准则\n",
      "  路径 ['X', 'A', 'B', 'Z', 'C', 'D', 'Y']是后门路径，且结点 B 被阻断\n",
      "  路径 ['X', 'A', 'B', 'Z', 'Y']是后门路径，且结点 B 被阻断\n",
      "  路径 ['X', 'W', 'Y']不是后门路径\n",
      "  路径 ['X', 'Z', 'C', 'D', 'Y']是后门路径，且结点 Z 被阻断\n",
      "  路径 ['X', 'Z', 'Y']是后门路径，且结点 Z 被阻断\n",
      "所有后门路径都已被阻断，满足后门准则\n",
      "\n",
      "正在判断图G中结点集 ('B', 'D', 'W') 是否满足关于( X , Y )的后门准则\n",
      "结点 ('B', 'D', 'W') 为 X 的后代结点，不满足第一条判据，不满足后门准则\n",
      "正在判断图G中结点集 ('B', 'D', 'Z') 是否满足关于( X , Y )的后门准则\n",
      "  路径 ['X', 'A', 'B', 'Z', 'C', 'D', 'Y']是后门路径，且结点 B 被阻断\n",
      "  路径 ['X', 'A', 'B', 'Z', 'Y']是后门路径，且结点 B 被阻断\n",
      "  路径 ['X', 'W', 'Y']不是后门路径\n",
      "  路径 ['X', 'Z', 'C', 'D', 'Y']是后门路径，且结点 Z 被阻断\n",
      "  路径 ['X', 'Z', 'Y']是后门路径，且结点 Z 被阻断\n",
      "所有后门路径都已被阻断，满足后门准则\n",
      "\n",
      "正在判断图G中结点集 ('B', 'W', 'Z') 是否满足关于( X , Y )的后门准则\n",
      "结点 ('B', 'W', 'Z') 为 X 的后代结点，不满足第一条判据，不满足后门准则\n",
      "正在判断图G中结点集 ('C', 'D', 'W') 是否满足关于( X , Y )的后门准则\n",
      "结点 ('C', 'D', 'W') 为 X 的后代结点，不满足第一条判据，不满足后门准则\n",
      "正在判断图G中结点集 ('C', 'D', 'Z') 是否满足关于( X , Y )的后门准则\n",
      "  路径 ['X', 'A', 'B', 'Z', 'C', 'D', 'Y']是后门路径，且结点 C 被阻断\n",
      "  路径 ['X', 'A', 'B', 'Z', 'Y']是后门路径，且结点 Z 被阻断\n",
      "  路径 ['X', 'W', 'Y']不是后门路径\n",
      "  路径 ['X', 'Z', 'C', 'D', 'Y']是后门路径，且结点 Z 被阻断\n",
      "  路径 ['X', 'Z', 'Y']是后门路径，且结点 Z 被阻断\n",
      "所有后门路径都已被阻断，满足后门准则\n",
      "\n",
      "正在判断图G中结点集 ('C', 'W', 'Z') 是否满足关于( X , Y )的后门准则\n",
      "结点 ('C', 'W', 'Z') 为 X 的后代结点，不满足第一条判据，不满足后门准则\n",
      "正在判断图G中结点集 ('D', 'W', 'Z') 是否满足关于( X , Y )的后门准则\n",
      "结点 ('D', 'W', 'Z') 为 X 的后代结点，不满足第一条判据，不满足后门准则\n",
      "正在判断图G中结点集 ('A', 'B', 'C', 'D') 是否满足关于( X , Y )的后门准则\n",
      "  路径 ['X', 'A', 'B', 'Z', 'C', 'D', 'Y']是后门路径，且结点 A 被阻断\n",
      "  路径 ['X', 'A', 'B', 'Z', 'Y']是后门路径，且结点 A 被阻断\n",
      "  路径 ['X', 'W', 'Y']不是后门路径\n",
      "  路径 ['X', 'Z', 'C', 'D', 'Y']是后门路径，且结点 C 被阻断\n",
      "  路径 ['X', 'Z', 'Y']是后门路径，但未被阻断【×】\n",
      "有后门路径未被阻断，不满足后门准则\n",
      "\n",
      "正在判断图G中结点集 ('A', 'B', 'C', 'W') 是否满足关于( X , Y )的后门准则\n",
      "结点 ('A', 'B', 'C', 'W') 为 X 的后代结点，不满足第一条判据，不满足后门准则\n",
      "正在判断图G中结点集 ('A', 'B', 'C', 'Z') 是否满足关于( X , Y )的后门准则\n",
      "  路径 ['X', 'A', 'B', 'Z', 'C', 'D', 'Y']是后门路径，且结点 A 被阻断\n",
      "  路径 ['X', 'A', 'B', 'Z', 'Y']是后门路径，且结点 A 被阻断\n",
      "  路径 ['X', 'W', 'Y']不是后门路径\n",
      "  路径 ['X', 'Z', 'C', 'D', 'Y']是后门路径，且结点 Z 被阻断\n",
      "  路径 ['X', 'Z', 'Y']是后门路径，且结点 Z 被阻断\n",
      "所有后门路径都已被阻断，满足后门准则\n",
      "\n",
      "正在判断图G中结点集 ('A', 'B', 'D', 'W') 是否满足关于( X , Y )的后门准则\n",
      "结点 ('A', 'B', 'D', 'W') 为 X 的后代结点，不满足第一条判据，不满足后门准则\n",
      "正在判断图G中结点集 ('A', 'B', 'D', 'Z') 是否满足关于( X , Y )的后门准则\n",
      "  路径 ['X', 'A', 'B', 'Z', 'C', 'D', 'Y']是后门路径，且结点 A 被阻断\n",
      "  路径 ['X', 'A', 'B', 'Z', 'Y']是后门路径，且结点 A 被阻断\n",
      "  路径 ['X', 'W', 'Y']不是后门路径\n",
      "  路径 ['X', 'Z', 'C', 'D', 'Y']是后门路径，且结点 Z 被阻断\n",
      "  路径 ['X', 'Z', 'Y']是后门路径，且结点 Z 被阻断\n",
      "所有后门路径都已被阻断，满足后门准则\n",
      "\n",
      "正在判断图G中结点集 ('A', 'B', 'W', 'Z') 是否满足关于( X , Y )的后门准则\n",
      "结点 ('A', 'B', 'W', 'Z') 为 X 的后代结点，不满足第一条判据，不满足后门准则\n",
      "正在判断图G中结点集 ('A', 'C', 'D', 'W') 是否满足关于( X , Y )的后门准则\n",
      "结点 ('A', 'C', 'D', 'W') 为 X 的后代结点，不满足第一条判据，不满足后门准则\n",
      "正在判断图G中结点集 ('A', 'C', 'D', 'Z') 是否满足关于( X , Y )的后门准则\n",
      "  路径 ['X', 'A', 'B', 'Z', 'C', 'D', 'Y']是后门路径，且结点 A 被阻断\n",
      "  路径 ['X', 'A', 'B', 'Z', 'Y']是后门路径，且结点 A 被阻断\n",
      "  路径 ['X', 'W', 'Y']不是后门路径\n",
      "  路径 ['X', 'Z', 'C', 'D', 'Y']是后门路径，且结点 Z 被阻断\n",
      "  路径 ['X', 'Z', 'Y']是后门路径，且结点 Z 被阻断\n",
      "所有后门路径都已被阻断，满足后门准则\n",
      "\n",
      "正在判断图G中结点集 ('A', 'C', 'W', 'Z') 是否满足关于( X , Y )的后门准则\n",
      "结点 ('A', 'C', 'W', 'Z') 为 X 的后代结点，不满足第一条判据，不满足后门准则\n",
      "正在判断图G中结点集 ('A', 'D', 'W', 'Z') 是否满足关于( X , Y )的后门准则\n",
      "结点 ('A', 'D', 'W', 'Z') 为 X 的后代结点，不满足第一条判据，不满足后门准则\n",
      "正在判断图G中结点集 ('B', 'C', 'D', 'W') 是否满足关于( X , Y )的后门准则\n",
      "结点 ('B', 'C', 'D', 'W') 为 X 的后代结点，不满足第一条判据，不满足后门准则\n",
      "正在判断图G中结点集 ('B', 'C', 'D', 'Z') 是否满足关于( X , Y )的后门准则\n",
      "  路径 ['X', 'A', 'B', 'Z', 'C', 'D', 'Y']是后门路径，且结点 B 被阻断\n",
      "  路径 ['X', 'A', 'B', 'Z', 'Y']是后门路径，且结点 B 被阻断\n",
      "  路径 ['X', 'W', 'Y']不是后门路径\n",
      "  路径 ['X', 'Z', 'C', 'D', 'Y']是后门路径，且结点 Z 被阻断\n",
      "  路径 ['X', 'Z', 'Y']是后门路径，且结点 Z 被阻断\n",
      "所有后门路径都已被阻断，满足后门准则\n",
      "\n",
      "正在判断图G中结点集 ('B', 'C', 'W', 'Z') 是否满足关于( X , Y )的后门准则\n",
      "结点 ('B', 'C', 'W', 'Z') 为 X 的后代结点，不满足第一条判据，不满足后门准则\n",
      "正在判断图G中结点集 ('B', 'D', 'W', 'Z') 是否满足关于( X , Y )的后门准则\n",
      "结点 ('B', 'D', 'W', 'Z') 为 X 的后代结点，不满足第一条判据，不满足后门准则\n",
      "正在判断图G中结点集 ('C', 'D', 'W', 'Z') 是否满足关于( X , Y )的后门准则\n",
      "结点 ('C', 'D', 'W', 'Z') 为 X 的后代结点，不满足第一条判据，不满足后门准则\n",
      "正在判断图G中结点集 ('A', 'B', 'C', 'D', 'W') 是否满足关于( X , Y )的后门准则\n",
      "结点 ('A', 'B', 'C', 'D', 'W') 为 X 的后代结点，不满足第一条判据，不满足后门准则\n",
      "正在判断图G中结点集 ('A', 'B', 'C', 'D', 'Z') 是否满足关于( X , Y )的后门准则\n",
      "  路径 ['X', 'A', 'B', 'Z', 'C', 'D', 'Y']是后门路径，且结点 A 被阻断\n",
      "  路径 ['X', 'A', 'B', 'Z', 'Y']是后门路径，且结点 A 被阻断\n",
      "  路径 ['X', 'W', 'Y']不是后门路径\n",
      "  路径 ['X', 'Z', 'C', 'D', 'Y']是后门路径，且结点 Z 被阻断\n",
      "  路径 ['X', 'Z', 'Y']是后门路径，且结点 Z 被阻断\n",
      "所有后门路径都已被阻断，满足后门准则\n",
      "\n",
      "正在判断图G中结点集 ('A', 'B', 'C', 'W', 'Z') 是否满足关于( X , Y )的后门准则\n",
      "结点 ('A', 'B', 'C', 'W', 'Z') 为 X 的后代结点，不满足第一条判据，不满足后门准则\n",
      "正在判断图G中结点集 ('A', 'B', 'D', 'W', 'Z') 是否满足关于( X , Y )的后门准则\n",
      "结点 ('A', 'B', 'D', 'W', 'Z') 为 X 的后代结点，不满足第一条判据，不满足后门准则\n",
      "正在判断图G中结点集 ('A', 'C', 'D', 'W', 'Z') 是否满足关于( X , Y )的后门准则\n",
      "结点 ('A', 'C', 'D', 'W', 'Z') 为 X 的后代结点，不满足第一条判据，不满足后门准则\n",
      "正在判断图G中结点集 ('B', 'C', 'D', 'W', 'Z') 是否满足关于( X , Y )的后门准则\n",
      "结点 ('B', 'C', 'D', 'W', 'Z') 为 X 的后代结点，不满足第一条判据，不满足后门准则\n",
      "正在判断图G中结点集 ('A', 'B', 'C', 'D', 'W', 'Z') 是否满足关于( X , Y )的后门准则\n",
      "结点 ('A', 'B', 'C', 'D', 'W', 'Z') 为 X 的后代结点，不满足第一条判据，不满足后门准则\n"
     ]
    }
   ],
   "source": [
    "# 逐一验证每个变量集合是否满足后门准则\n",
    "backdoor_sets = []\n",
    "for sets in powersets:\n",
    "    if backdoor(G, 'X', 'Y', sets):\n",
    "        backdoor_sets.append(sets)"
   ]
  },
  {
   "cell_type": "code",
   "execution_count": 12,
   "metadata": {},
   "outputs": [
    {
     "name": "stdout",
     "output_type": "stream",
     "text": [
      "[('A', 'Z'), ('B', 'Z'), ('C', 'Z'), ('D', 'Z'), ('A', 'B', 'Z'), ('A', 'C', 'Z'), ('A', 'D', 'Z'), ('B', 'C', 'Z'), ('B', 'D', 'Z'), ('C', 'D', 'Z'), ('A', 'B', 'C', 'Z'), ('A', 'B', 'D', 'Z'), ('A', 'C', 'D', 'Z'), ('B', 'C', 'D', 'Z'), ('A', 'B', 'C', 'D', 'Z')]\n"
     ]
    }
   ],
   "source": [
    "print(backdoor_sets)"
   ]
  },
  {
   "cell_type": "markdown",
   "metadata": {},
   "source": [
    "## 前门准则\n",
    "\n",
    "---\n",
    "\n",
    "给定有向无环图中的一对有序变量 (X, Y)，如果变量集合 Z 满足\n",
    "\n",
    "1. Z 切断了所有 X 到 Y 的有向路径，\n",
    "2. X 到 Z 没有后门路径\n",
    "3. 所有 Z 到 Y 的后门路径都被 X 阻断\n",
    "\n",
    "则称 Z 满足关于 (X, Y) 的**前门准则**。"
   ]
  },
  {
   "cell_type": "code",
   "execution_count": 13,
   "metadata": {},
   "outputs": [],
   "source": [
    "def frontdoor(G, x, y, z):    \n",
    "    print('正在判断图G中结点集', z, '是否满足关于(', x, ',', y, ')的前门准则')\n",
    "    \n",
    "    # 判断是否为有向无环图\n",
    "    if not nx.is_directed_acyclic_graph(G):\n",
    "        print('此图不是有向无环图，无法进行后续判断')\n",
    "        return False\n",
    "    \n",
    "    # @@@ 判据1：Z切断了所有X到Y的有向路径\n",
    "    # ------------------------------------------------\n",
    "    # 获取所有X到Y的有向路径\n",
    "    directed_paths = nx.all_simple_paths(G, x, y)\n",
    "    for path in directed_paths:\n",
    "        print('  路径', path, '是结点', x, '到结点', y, '的有向路径', end='')\n",
    "        if not path_blocked(G, path, z):\n",
    "            print('不满足第一条判据，因此不满足前门准则\\n')\n",
    "            return False\n",
    "\n",
    "    # @@@ 判据2：X到Z没有后门路径（即空集满足(X,Z)的后门准则）\n",
    "    # ------------------------------------------------\n",
    "    for node in z:\n",
    "        backdoor_path_not_exist = backdoor(G, x, node, {})\n",
    "        if not backdoor_path_not_exist:\n",
    "            print('不满足第二条判据，因此不满足前门准则\\n')\n",
    "            return False\n",
    "\n",
    "    # @@@ 判据3：所有Z到Y的后门路径都被X阻断（即X满足(Z,Y)的后门准则）\n",
    "    # ------------------------------------------------\n",
    "    for node in z:\n",
    "        backdoor_path_blocked = backdoor(G, node, y, {x})\n",
    "        if not backdoor_path_blocked:\n",
    "            print('不满足第三条判据，因此不满足前门准则\\n')\n",
    "            return False\n",
    "    \n",
    "    # 所有判据皆通过\n",
    "    print('所有判据通过，满足前门准则\\n')\n",
    "    return True"
   ]
  },
  {
   "cell_type": "code",
   "execution_count": 14,
   "metadata": {},
   "outputs": [
    {
     "data": {
      "image/png": "[encoded data removed]",
      "text/plain": [
       "<Figure size 432x288 with 1 Axes>"
      ]
     },
     "metadata": {},
     "output_type": "display_data"
    }
   ],
   "source": [
    "nx.draw(G, **draw_options, pos=pos)"
   ]
  },
  {
   "cell_type": "code",
   "execution_count": 15,
   "metadata": {},
   "outputs": [
    {
     "name": "stdout",
     "output_type": "stream",
     "text": [
      "正在判断图G中结点集 {'W'} 是否满足关于( X , Y )的前门准则\n",
      "  路径 ['X', 'W', 'Y'] 是结点 X 到结点 Y 的有向路径，且结点 W 被阻断\n",
      "正在判断图G中结点集 {} 是否满足关于( X , W )的后门准则\n",
      "  路径 ['X', 'A', 'B', 'Z', 'C', 'D', 'Y', 'W']是后门路径，且对撞结点 Z 被阻断\n",
      "  路径 ['X', 'A', 'B', 'Z', 'Y', 'W']是后门路径，且对撞结点 Y 被阻断\n",
      "  路径 ['X', 'W']不是后门路径\n",
      "  路径 ['X', 'Z', 'C', 'D', 'Y', 'W']是后门路径，且对撞结点 Y 被阻断\n",
      "  路径 ['X', 'Z', 'Y', 'W']是后门路径，且对撞结点 Y 被阻断\n",
      "所有后门路径都已被阻断，满足后门准则\n",
      "\n",
      "正在判断图G中结点集 {'X'} 是否满足关于( W , Y )的后门准则\n",
      "  路径 ['W', 'Y']不是后门路径\n",
      "  路径 ['W', 'X', 'A', 'B', 'Z', 'C', 'D', 'Y']是后门路径，且结点 X 被阻断\n",
      "  路径 ['W', 'X', 'A', 'B', 'Z', 'Y']是后门路径，且结点 X 被阻断\n",
      "  路径 ['W', 'X', 'Z', 'C', 'D', 'Y']是后门路径，且结点 X 被阻断\n",
      "  路径 ['W', 'X', 'Z', 'Y']是后门路径，且结点 X 被阻断\n",
      "所有后门路径都已被阻断，满足后门准则\n",
      "\n",
      "所有判据通过，满足前门准则\n",
      "\n"
     ]
    },
    {
     "data": {
      "text/plain": [
       "True"
      ]
     },
     "execution_count": 15,
     "metadata": {},
     "output_type": "execute_result"
    }
   ],
   "source": [
    "frontdoor(G, 'X', 'Y', {'W'})"
   ]
  },
  {
   "cell_type": "code",
   "execution_count": 16,
   "metadata": {},
   "outputs": [
    {
     "name": "stdout",
     "output_type": "stream",
     "text": [
      "正在判断图G中结点集 {'Z', 'W'} 是否满足关于( X , Y )的前门准则\n",
      "  路径 ['X', 'W', 'Y'] 是结点 X 到结点 Y 的有向路径，且结点 W 被阻断\n",
      "正在判断图G中结点集 {} 是否满足关于( X , Z )的后门准则\n",
      "  路径 ['X', 'A', 'B', 'Z']是后门路径，但未被阻断【×】\n",
      "  路径 ['X', 'W', 'Y', 'D', 'C', 'Z']不是后门路径\n",
      "  路径 ['X', 'W', 'Y', 'Z']不是后门路径\n",
      "  路径 ['X', 'Z']是后门路径，但未被阻断【×】\n",
      "有后门路径未被阻断，不满足后门准则\n",
      "\n",
      "不满足第二条判据，因此不满足前门准则\n",
      "\n"
     ]
    },
    {
     "data": {
      "text/plain": [
       "False"
      ]
     },
     "execution_count": 16,
     "metadata": {},
     "output_type": "execute_result"
    }
   ],
   "source": [
    "frontdoor(G, 'X', 'Y', {'Z', 'W'})"
   ]
  },
  {
   "cell_type": "markdown",
   "metadata": {},
   "source": [
    "### 思考题3.4.1\n",
    "\n",
    "假设在图中只能测量 X，Y 和一个附加变量，哪个变量可用于确定 X 对 Y的因果效应？请找出并计算 X 对 Y 的因果效应。\n",
    "\n",
    "---"
   ]
  },
  {
   "cell_type": "code",
   "execution_count": 17,
   "metadata": {},
   "outputs": [
    {
     "name": "stdout",
     "output_type": "stream",
     "text": [
      "正在判断图G中结点集 {'A'} 是否满足关于( X , Y )的后门准则\n",
      "  路径 ['X', 'A', 'B', 'Z', 'C', 'D', 'Y']是后门路径，且结点 A 被阻断\n",
      "  路径 ['X', 'A', 'B', 'Z', 'Y']是后门路径，且结点 A 被阻断\n",
      "  路径 ['X', 'W', 'Y']不是后门路径\n",
      "  路径 ['X', 'Z', 'C', 'D', 'Y']是后门路径，但未被阻断【×】\n",
      "  路径 ['X', 'Z', 'Y']是后门路径，但未被阻断【×】\n",
      "有后门路径未被阻断，不满足后门准则\n",
      "\n",
      "正在判断图G中结点集 {'B'} 是否满足关于( X , Y )的后门准则\n",
      "  路径 ['X', 'A', 'B', 'Z', 'C', 'D', 'Y']是后门路径，且结点 B 被阻断\n",
      "  路径 ['X', 'A', 'B', 'Z', 'Y']是后门路径，且结点 B 被阻断\n",
      "  路径 ['X', 'W', 'Y']不是后门路径\n",
      "  路径 ['X', 'Z', 'C', 'D', 'Y']是后门路径，但未被阻断【×】\n",
      "  路径 ['X', 'Z', 'Y']是后门路径，但未被阻断【×】\n",
      "有后门路径未被阻断，不满足后门准则\n",
      "\n",
      "正在判断图G中结点集 {'C'} 是否满足关于( X , Y )的后门准则\n",
      "  路径 ['X', 'A', 'B', 'Z', 'C', 'D', 'Y']是后门路径，且对撞结点 Z 被阻断\n",
      "  路径 ['X', 'A', 'B', 'Z', 'Y']是后门路径，但未被阻断【×】\n",
      "  路径 ['X', 'W', 'Y']不是后门路径\n",
      "  路径 ['X', 'Z', 'C', 'D', 'Y']是后门路径，且结点 C 被阻断\n",
      "  路径 ['X', 'Z', 'Y']是后门路径，但未被阻断【×】\n",
      "有后门路径未被阻断，不满足后门准则\n",
      "\n",
      "正在判断图G中结点集 {'D'} 是否满足关于( X , Y )的后门准则\n",
      "  路径 ['X', 'A', 'B', 'Z', 'C', 'D', 'Y']是后门路径，且对撞结点 Z 被阻断\n",
      "  路径 ['X', 'A', 'B', 'Z', 'Y']是后门路径，但未被阻断【×】\n",
      "  路径 ['X', 'W', 'Y']不是后门路径\n",
      "  路径 ['X', 'Z', 'C', 'D', 'Y']是后门路径，且结点 D 被阻断\n",
      "  路径 ['X', 'Z', 'Y']是后门路径，但未被阻断【×】\n",
      "有后门路径未被阻断，不满足后门准则\n",
      "\n",
      "正在判断图G中结点集 {'W'} 是否满足关于( X , Y )的后门准则\n",
      "结点 {'W'} 为 X 的后代结点，不满足第一条判据，不满足后门准则\n",
      "正在判断图G中结点集 {'Z'} 是否满足关于( X , Y )的后门准则\n",
      "  路径 ['X', 'A', 'B', 'Z', 'C', 'D', 'Y']是后门路径，但未被阻断【×】\n",
      "  路径 ['X', 'A', 'B', 'Z', 'Y']是后门路径，且结点 Z 被阻断\n",
      "  路径 ['X', 'W', 'Y']不是后门路径\n",
      "  路径 ['X', 'Z', 'C', 'D', 'Y']是后门路径，且结点 Z 被阻断\n",
      "  路径 ['X', 'Z', 'Y']是后门路径，且结点 Z 被阻断\n",
      "有后门路径未被阻断，不满足后门准则\n",
      "\n",
      "正在判断图G中结点集 {'A'} 是否满足关于( X , Y )的前门准则\n",
      "  路径 ['X', 'W', 'Y'] 是结点 X 到结点 Y 的有向路径，但未被阻断【×】\n",
      "不满足第一条判据，因此不满足前门准则\n",
      "\n",
      "正在判断图G中结点集 {'B'} 是否满足关于( X , Y )的前门准则\n",
      "  路径 ['X', 'W', 'Y'] 是结点 X 到结点 Y 的有向路径，但未被阻断【×】\n",
      "不满足第一条判据，因此不满足前门准则\n",
      "\n",
      "正在判断图G中结点集 {'C'} 是否满足关于( X , Y )的前门准则\n",
      "  路径 ['X', 'W', 'Y'] 是结点 X 到结点 Y 的有向路径，但未被阻断【×】\n",
      "不满足第一条判据，因此不满足前门准则\n",
      "\n",
      "正在判断图G中结点集 {'D'} 是否满足关于( X , Y )的前门准则\n",
      "  路径 ['X', 'W', 'Y'] 是结点 X 到结点 Y 的有向路径，但未被阻断【×】\n",
      "不满足第一条判据，因此不满足前门准则\n",
      "\n",
      "正在判断图G中结点集 {'W'} 是否满足关于( X , Y )的前门准则\n",
      "  路径 ['X', 'W', 'Y'] 是结点 X 到结点 Y 的有向路径，且结点 W 被阻断\n",
      "正在判断图G中结点集 {} 是否满足关于( X , W )的后门准则\n",
      "  路径 ['X', 'A', 'B', 'Z', 'C', 'D', 'Y', 'W']是后门路径，且对撞结点 Z 被阻断\n",
      "  路径 ['X', 'A', 'B', 'Z', 'Y', 'W']是后门路径，且对撞结点 Y 被阻断\n",
      "  路径 ['X', 'W']不是后门路径\n",
      "  路径 ['X', 'Z', 'C', 'D', 'Y', 'W']是后门路径，且对撞结点 Y 被阻断\n",
      "  路径 ['X', 'Z', 'Y', 'W']是后门路径，且对撞结点 Y 被阻断\n",
      "所有后门路径都已被阻断，满足后门准则\n",
      "\n",
      "正在判断图G中结点集 {'X'} 是否满足关于( W , Y )的后门准则\n",
      "  路径 ['W', 'Y']不是后门路径\n",
      "  路径 ['W', 'X', 'A', 'B', 'Z', 'C', 'D', 'Y']是后门路径，且结点 X 被阻断\n",
      "  路径 ['W', 'X', 'A', 'B', 'Z', 'Y']是后门路径，且结点 X 被阻断\n",
      "  路径 ['W', 'X', 'Z', 'C', 'D', 'Y']是后门路径，且结点 X 被阻断\n",
      "  路径 ['W', 'X', 'Z', 'Y']是后门路径，且结点 X 被阻断\n",
      "所有后门路径都已被阻断，满足后门准则\n",
      "\n",
      "所有判据通过，满足前门准则\n",
      "\n",
      "正在判断图G中结点集 {'Z'} 是否满足关于( X , Y )的前门准则\n",
      "  路径 ['X', 'W', 'Y'] 是结点 X 到结点 Y 的有向路径，但未被阻断【×】\n",
      "不满足第一条判据，因此不满足前门准则\n",
      "\n"
     ]
    }
   ],
   "source": [
    "v = ['A', 'B', 'C', 'D', 'W', 'Z']\n",
    "backdoor_nodes = []\n",
    "for node in v:\n",
    "    if backdoor(G, 'X', 'Y', {node}):\n",
    "        backdoor_nodes.append(node)\n",
    "\n",
    "frontdoor_nodes = []\n",
    "for node in v:\n",
    "    if frontdoor(G, 'X', 'Y', {node}):\n",
    "        frontdoor_nodes.append(node)"
   ]
  },
  {
   "cell_type": "code",
   "execution_count": 18,
   "metadata": {},
   "outputs": [
    {
     "name": "stdout",
     "output_type": "stream",
     "text": [
      "满足后门准则的结点：\n",
      "[]\n",
      "满足前门准则的结点：\n",
      "['W']\n"
     ]
    }
   ],
   "source": [
    "print('满足后门准则的结点：')\n",
    "print(backdoor_nodes)\n",
    "print('满足前门准则的结点：')\n",
    "print(frontdoor_nodes)"
   ]
  },
  {
   "cell_type": "markdown",
   "metadata": {},
   "source": [
    "根据前门校正公式，X 对 Y 的因果效应可以表示为\n",
    "$$ P(y\\ |\\ do(x)) = \\sum_wP(w\\ |\\ x)\\sum_{x'}P(y\\ |\\ x', w)P(x') $$"
   ]
  },
  {
   "cell_type": "markdown",
   "metadata": {},
   "source": [
    "## Ananke 的使用\n",
    "\n",
    "参考链接：https://ananke.readthedocs.io/en/latest/index.html"
   ]
  },
  {
   "cell_type": "code",
   "execution_count": null,
   "metadata": {},
   "outputs": [],
   "source": [
    "! pip3 install ananke-causal"
   ]
  },
  {
   "cell_type": "code",
   "execution_count": null,
   "metadata": {},
   "outputs": [],
   "source": [
    "from ananke.graphs import ADMG\n",
    "from ananke.identification import OneLineID\n",
    "from ananke.estimation import CausalEffect\n",
    "from ananke.datasets import load_afixable_data\n",
    "from ananke.estimation import AutomatedIF\n",
    "import numpy as np"
   ]
  },
  {
   "cell_type": "code",
   "execution_count": null,
   "metadata": {},
   "outputs": [],
   "source": [
    "vertices = ['Income', 'Insurance', 'ViralLoad', 'Education', 'T', 'Toxicity', 'CD4']\n",
    "di_edges = [('ViralLoad', 'Income'), ('ViralLoad', 'T'), ('ViralLoad', 'Toxicity'),\n",
    "            ('Education', 'Income'), ('Education', 'T'), ('Education', 'Toxicity'),\n",
    "            ('Income', 'Insurance'), ('Insurance', 'T'), ('T', 'Toxicity'), ('Toxicity', 'CD4'), ('T', 'CD4')]\n",
    "bi_edges = [('Income', 'T'), ('Insurance', 'ViralLoad'), ('Education', 'CD4')]\n",
    "G = ADMG(vertices, di_edges, bi_edges)\n",
    "G.draw(direction=\"LR\")"
   ]
  },
  {
   "cell_type": "code",
   "execution_count": null,
   "metadata": {},
   "outputs": [],
   "source": [
    "one_id = OneLineID(graph=G, treatments=['T'], outcomes=['CD4'])\n",
    "one_id.id()\n",
    "one_id.functional()"
   ]
  },
  {
   "cell_type": "code",
   "execution_count": null,
   "metadata": {},
   "outputs": [],
   "source": [
    "vertices = ['A', 'B', 'C', 'D', 'W', 'X', 'Y', 'Z']\n",
    "di_edges = [('X', 'W'), ('W', 'Y'), ('Z', 'X'), ('Z', 'Y'),\n",
    "       ('B', 'A'), ('A', 'X'), ('B', 'Z'),\n",
    "       ('C', 'D'), ('D', 'Y'), ('C', 'Z')]\n",
    "G = ADMG(vertices, di_edges)\n",
    "G.draw(direction=\"LR\")"
   ]
  },
  {
   "cell_type": "code",
   "execution_count": null,
   "metadata": {},
   "outputs": [],
   "source": [
    "one_id = OneLineID(graph=G, treatments=['X'], outcomes=['Y'])\n",
    "one_id.functional()"
   ]
  }
 ],
 "metadata": {
  "celltoolbar": "原始单元格格式",
  "kernelspec": {
   "display_name": "Python 3",
   "language": "python",
   "name": "python3"
  },
  "language_info": {
   "codemirror_mode": {
    "name": "ipython",
    "version": 3
   },
   "file_extension": ".py",
   "mimetype": "text/x-python",
   "name": "python",
   "nbconvert_exporter": "python",
   "pygments_lexer": "ipython3",
   "version": "3.8.3"
  }
 },
 "nbformat": 4,
 "nbformat_minor": 5
}
